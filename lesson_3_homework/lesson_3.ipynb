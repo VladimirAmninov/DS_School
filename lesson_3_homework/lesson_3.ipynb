{
 "cells": [
  {
   "cell_type": "markdown",
   "metadata": {},
   "source": [
    "### Задание\n",
    "\n",
    "    Попробуйте собрать датафрэйм об объектах недвижимости с сайта cian.ru, используя репозиторий https://github.com/lenarsaitov/cianparser.git\n",
    "    Cохранить его в pandas dataframe\n",
    "    Cохранить pandas dataframe в pickle\n",
    "    Cохранить pandas dataframe в excel\n",
    "    Cохранить pandas dataframe в БД\n"
   ]
  },
  {
   "cell_type": "code",
   "execution_count": 54,
   "metadata": {},
   "outputs": [],
   "source": [
    "#!pip install git+https://github.com/lenarsaitov/cianparser.git\n",
    "#!pip install openpyxl"
   ]
  },
  {
   "cell_type": "code",
   "execution_count": 57,
   "metadata": {},
   "outputs": [],
   "source": [
    "import cianparser\n",
    "import pandas as pd\n",
    "import sqlite3"
   ]
  },
  {
   "cell_type": "code",
   "execution_count": null,
   "metadata": {},
   "outputs": [],
   "source": [
    "moscow_parser = cianparser.CianParser(location=\"Москва\")\n",
    "data = moscow_parser.get_flats(deal_type=\"sale\", rooms=(1, 2), with_saving_csv=True, additional_settings={\"start_page\":1, \"end_page\":20})\n",
    "\n",
    "print(data[0])"
   ]
  },
  {
   "cell_type": "code",
   "execution_count": 49,
   "metadata": {},
   "outputs": [],
   "source": [
    "# сохраняем данные в dataframe\n",
    "df = pd.DataFrame(data)"
   ]
  },
  {
   "cell_type": "code",
   "execution_count": 55,
   "metadata": {},
   "outputs": [],
   "source": [
    "# сохраняем dataframe в excel\n",
    "df.to_excel('cian_parsed.xlsx')"
   ]
  },
  {
   "cell_type": "code",
   "execution_count": 56,
   "metadata": {},
   "outputs": [],
   "source": [
    "# сохраняем dataframe в pickle\n",
    "df.to_pickle('cian_parsed_pkl.pkl')"
   ]
  },
  {
   "cell_type": "code",
   "execution_count": 58,
   "metadata": {},
   "outputs": [],
   "source": [
    "# создаем БД\n",
    "conn = sqlite3.connect('cian.db')"
   ]
  },
  {
   "cell_type": "code",
   "execution_count": 59,
   "metadata": {},
   "outputs": [
    {
     "data": {
      "text/plain": [
       "550"
      ]
     },
     "execution_count": 59,
     "metadata": {},
     "output_type": "execute_result"
    }
   ],
   "source": [
    "# сохраняем dataframe в таблицу БД\n",
    "df.to_sql(name='cian_parsed',con=conn)"
   ]
  },
  {
   "cell_type": "code",
   "execution_count": 62,
   "metadata": {},
   "outputs": [
    {
     "data": {
      "text/html": [
       "<div>\n",
       "<style scoped>\n",
       "    .dataframe tbody tr th:only-of-type {\n",
       "        vertical-align: middle;\n",
       "    }\n",
       "\n",
       "    .dataframe tbody tr th {\n",
       "        vertical-align: top;\n",
       "    }\n",
       "\n",
       "    .dataframe thead th {\n",
       "        text-align: right;\n",
       "    }\n",
       "</style>\n",
       "<table border=\"1\" class=\"dataframe\">\n",
       "  <thead>\n",
       "    <tr style=\"text-align: right;\">\n",
       "      <th></th>\n",
       "      <th>index</th>\n",
       "      <th>author</th>\n",
       "      <th>author_type</th>\n",
       "      <th>url</th>\n",
       "      <th>location</th>\n",
       "      <th>deal_type</th>\n",
       "      <th>accommodation_type</th>\n",
       "      <th>floor</th>\n",
       "      <th>floors_count</th>\n",
       "      <th>rooms_count</th>\n",
       "      <th>total_meters</th>\n",
       "      <th>price</th>\n",
       "      <th>district</th>\n",
       "      <th>street</th>\n",
       "      <th>house_number</th>\n",
       "      <th>underground</th>\n",
       "      <th>residential_complex</th>\n",
       "    </tr>\n",
       "  </thead>\n",
       "  <tbody>\n",
       "    <tr>\n",
       "      <th>0</th>\n",
       "      <td>0</td>\n",
       "      <td>VESPER</td>\n",
       "      <td>developer</td>\n",
       "      <td>https://www.cian.ru/sale/flat/262519758/</td>\n",
       "      <td>Москва</td>\n",
       "      <td>sale</td>\n",
       "      <td>flat</td>\n",
       "      <td>5</td>\n",
       "      <td>21</td>\n",
       "      <td>2</td>\n",
       "      <td>110.60</td>\n",
       "      <td>103787040.0</td>\n",
       "      <td>Пресненский</td>\n",
       "      <td>Костикова</td>\n",
       "      <td>4к1</td>\n",
       "      <td>Улица 1905 года</td>\n",
       "      <td>Lucky</td>\n",
       "    </tr>\n",
       "    <tr>\n",
       "      <th>1</th>\n",
       "      <td>1</td>\n",
       "      <td>ID 108172779</td>\n",
       "      <td>real_estate_agent</td>\n",
       "      <td>https://www.cian.ru/sale/flat/301496936/</td>\n",
       "      <td>Москва</td>\n",
       "      <td>sale</td>\n",
       "      <td>flat</td>\n",
       "      <td>7</td>\n",
       "      <td>8</td>\n",
       "      <td>1</td>\n",
       "      <td>53.20</td>\n",
       "      <td>58786000.0</td>\n",
       "      <td>Таганский</td>\n",
       "      <td>Славянская площадь</td>\n",
       "      <td>2/5с1</td>\n",
       "      <td>Китай-город</td>\n",
       "      <td>LUMIN</td>\n",
       "    </tr>\n",
       "    <tr>\n",
       "      <th>2</th>\n",
       "      <td>2</td>\n",
       "      <td>Главстрой</td>\n",
       "      <td>developer</td>\n",
       "      <td>https://www.cian.ru/sale/flat/301772281/</td>\n",
       "      <td>Москва</td>\n",
       "      <td>sale</td>\n",
       "      <td>flat</td>\n",
       "      <td>2</td>\n",
       "      <td>8</td>\n",
       "      <td>2</td>\n",
       "      <td>48.83</td>\n",
       "      <td>24219680.0</td>\n",
       "      <td>Котловка</td>\n",
       "      <td>31/2</td>\n",
       "      <td>31/2</td>\n",
       "      <td>Профсоюзная</td>\n",
       "      <td>Новые Академики ЖК</td>\n",
       "    </tr>\n",
       "    <tr>\n",
       "      <th>3</th>\n",
       "      <td>3</td>\n",
       "      <td>SHOW ME</td>\n",
       "      <td>real_estate_agent</td>\n",
       "      <td>https://www.cian.ru/sale/flat/302081797/</td>\n",
       "      <td>Москва</td>\n",
       "      <td>sale</td>\n",
       "      <td>flat</td>\n",
       "      <td>2</td>\n",
       "      <td>10</td>\n",
       "      <td>2</td>\n",
       "      <td>69.40</td>\n",
       "      <td>85000000.0</td>\n",
       "      <td>Тверской</td>\n",
       "      <td>Палиха</td>\n",
       "      <td>4</td>\n",
       "      <td>Менделеевская</td>\n",
       "      <td>Клубный дом Maison Rouge</td>\n",
       "    </tr>\n",
       "    <tr>\n",
       "      <th>4</th>\n",
       "      <td>4</td>\n",
       "      <td>VESPER</td>\n",
       "      <td>developer</td>\n",
       "      <td>https://www.cian.ru/sale/flat/286258299/</td>\n",
       "      <td>Москва</td>\n",
       "      <td>sale</td>\n",
       "      <td>flat</td>\n",
       "      <td>5</td>\n",
       "      <td>9</td>\n",
       "      <td>2</td>\n",
       "      <td>104.20</td>\n",
       "      <td>143796000.0</td>\n",
       "      <td>Тверской</td>\n",
       "      <td>1-я Тверская-Ямская</td>\n",
       "      <td>2</td>\n",
       "      <td>Маяковская</td>\n",
       "      <td>Vesper Tverskaya</td>\n",
       "    </tr>\n",
       "  </tbody>\n",
       "</table>\n",
       "</div>"
      ],
      "text/plain": [
       "   index        author        author_type  \\\n",
       "0      0        VESPER          developer   \n",
       "1      1  ID 108172779  real_estate_agent   \n",
       "2      2     Главстрой          developer   \n",
       "3      3       SHOW ME  real_estate_agent   \n",
       "4      4        VESPER          developer   \n",
       "\n",
       "                                        url location deal_type  \\\n",
       "0  https://www.cian.ru/sale/flat/262519758/   Москва      sale   \n",
       "1  https://www.cian.ru/sale/flat/301496936/   Москва      sale   \n",
       "2  https://www.cian.ru/sale/flat/301772281/   Москва      sale   \n",
       "3  https://www.cian.ru/sale/flat/302081797/   Москва      sale   \n",
       "4  https://www.cian.ru/sale/flat/286258299/   Москва      sale   \n",
       "\n",
       "  accommodation_type  floor  floors_count  rooms_count  total_meters  \\\n",
       "0               flat      5            21            2        110.60   \n",
       "1               flat      7             8            1         53.20   \n",
       "2               flat      2             8            2         48.83   \n",
       "3               flat      2            10            2         69.40   \n",
       "4               flat      5             9            2        104.20   \n",
       "\n",
       "         price     district                street house_number  \\\n",
       "0  103787040.0  Пресненский             Костикова          4к1   \n",
       "1   58786000.0    Таганский    Славянская площадь        2/5с1   \n",
       "2   24219680.0     Котловка                  31/2         31/2   \n",
       "3   85000000.0     Тверской                Палиха            4   \n",
       "4  143796000.0     Тверской  1-я Тверская-Ямская             2   \n",
       "\n",
       "       underground       residential_complex  \n",
       "0  Улица 1905 года                     Lucky  \n",
       "1      Китай-город                     LUMIN  \n",
       "2      Профсоюзная        Новые Академики ЖК  \n",
       "3    Менделеевская  Клубный дом Maison Rouge  \n",
       "4       Маяковская          Vesper Tverskaya  "
      ]
     },
     "execution_count": 62,
     "metadata": {},
     "output_type": "execute_result"
    }
   ],
   "source": [
    "# Проверяем чтение из БД\n",
    "test = pd.read_sql('select * from cian_parsed', con = conn)\n",
    "test.head()"
   ]
  }
 ],
 "metadata": {
  "kernelspec": {
   "display_name": ".venv",
   "language": "python",
   "name": "python3"
  },
  "language_info": {
   "codemirror_mode": {
    "name": "ipython",
    "version": 3
   },
   "file_extension": ".py",
   "mimetype": "text/x-python",
   "name": "python",
   "nbconvert_exporter": "python",
   "pygments_lexer": "ipython3",
   "version": "3.10.12"
  }
 },
 "nbformat": 4,
 "nbformat_minor": 2
}
